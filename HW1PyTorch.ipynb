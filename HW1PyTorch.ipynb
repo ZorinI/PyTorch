{
 "cells": [
  {
   "cell_type": "code",
   "execution_count": 3,
   "id": "84722c4e",
   "metadata": {},
   "outputs": [
    {
     "name": "stdout",
     "output_type": "stream",
     "text": [
      "Requirement already satisfied: torch in c:\\users\\amfet\\anaconda3\\lib\\site-packages (1.13.0)\n",
      "Collecting torchvision\n",
      "  Downloading torchvision-0.14.1-cp39-cp39-win_amd64.whl (1.1 MB)\n",
      "Requirement already satisfied: typing-extensions in c:\\users\\amfet\\anaconda3\\lib\\site-packages (from torch) (3.10.0.2)\n",
      "Requirement already satisfied: pillow!=8.3.*,>=5.3.0 in c:\\users\\amfet\\anaconda3\\lib\\site-packages (from torchvision) (8.4.0)\n",
      "Requirement already satisfied: numpy in c:\\users\\amfet\\anaconda3\\lib\\site-packages (from torchvision) (1.20.3)\n",
      "Requirement already satisfied: requests in c:\\users\\amfet\\anaconda3\\lib\\site-packages (from torchvision) (2.26.0)\n",
      "Collecting torch\n",
      "  Downloading torch-1.13.1-cp39-cp39-win_amd64.whl (162.5 MB)\n",
      "Requirement already satisfied: idna<4,>=2.5 in c:\\users\\amfet\\anaconda3\\lib\\site-packages (from requests->torchvision) (3.2)\n",
      "Requirement already satisfied: charset-normalizer~=2.0.0 in c:\\users\\amfet\\anaconda3\\lib\\site-packages (from requests->torchvision) (2.0.4)\n",
      "Requirement already satisfied: urllib3<1.27,>=1.21.1 in c:\\users\\amfet\\anaconda3\\lib\\site-packages (from requests->torchvision) (1.26.7)\n",
      "Requirement already satisfied: certifi>=2017.4.17 in c:\\users\\amfet\\anaconda3\\lib\\site-packages (from requests->torchvision) (2021.10.8)\n",
      "Installing collected packages: torch, torchvision\n",
      "  Attempting uninstall: torch\n",
      "    Found existing installation: torch 1.13.0\n",
      "    Uninstalling torch-1.13.0:\n",
      "      Successfully uninstalled torch-1.13.0\n",
      "Successfully installed torch-1.13.1 torchvision-0.14.1\n"
     ]
    }
   ],
   "source": [
    "!pip install torch torchvision"
   ]
  },
  {
   "cell_type": "code",
   "execution_count": 6,
   "id": "b1ac1ef6",
   "metadata": {},
   "outputs": [],
   "source": [
    "import torch"
   ]
  },
  {
   "cell_type": "code",
   "execution_count": 7,
   "id": "c4974afe",
   "metadata": {},
   "outputs": [],
   "source": [
    "# 1. Создайте случайный FloatTensor размера 3x4x5\n",
    "a = torch.randn(3, 4, 5)"
   ]
  },
  {
   "cell_type": "code",
   "execution_count": 8,
   "id": "4350ee18",
   "metadata": {},
   "outputs": [
    {
     "data": {
      "text/plain": [
       "torch.Size([3, 4, 5])"
      ]
     },
     "execution_count": 8,
     "metadata": {},
     "output_type": "execute_result"
    }
   ],
   "source": [
    "# 2. Выведите его форму (shape)\n",
    "a.shape"
   ]
  },
  {
   "cell_type": "code",
   "execution_count": 9,
   "id": "5da87f9b",
   "metadata": {},
   "outputs": [
    {
     "data": {
      "text/plain": [
       "torch.Size([6, 10])"
      ]
     },
     "execution_count": 9,
     "metadata": {},
     "output_type": "execute_result"
    }
   ],
   "source": [
    "# 3. Приведите его к форме 6х10\n",
    "a = a.reshape(6, 10)\n",
    "a.shape"
   ]
  },
  {
   "cell_type": "code",
   "execution_count": 10,
   "id": "0578d53f",
   "metadata": {},
   "outputs": [
    {
     "data": {
      "text/plain": [
       "'torch.IntTensor'"
      ]
     },
     "execution_count": 10,
     "metadata": {},
     "output_type": "execute_result"
    }
   ],
   "source": [
    "# 4. Создайте случайный IntTensor размера 10\n",
    "b = torch.randint(10, size=(10,)).int()\n",
    "b.type()"
   ]
  },
  {
   "cell_type": "code",
   "execution_count": 11,
   "id": "017b0b0f",
   "metadata": {},
   "outputs": [
    {
     "data": {
      "text/plain": [
       "tensor([[ -0.4398,   2.0790,   2.6691,  -3.4514,  -2.4113,   0.9390,   0.0259,\n",
       "          -2.1647,   0.1529,   2.3834],\n",
       "        [  1.5427,   9.1442,   0.8318,  -0.0229,  -5.8378,   0.7735,  -1.1669,\n",
       "           2.2301,  -1.2895,   1.6378],\n",
       "        [  2.1331,  -0.0192,   0.9880,  -4.9189,   1.1006,   1.1309,  -1.6619,\n",
       "           1.7740,   3.5215,  -4.2174],\n",
       "        [ -0.6965,   4.9581,  -0.0671,  -1.1094,  11.2336,   1.0895,   0.2931,\n",
       "           1.1465,   2.5832,   3.9368],\n",
       "        [  1.4519,   5.6182,  -2.8465,   0.5805, -15.3987,  -0.6378,  -0.1751,\n",
       "          -0.8055,   2.2953, -10.3086],\n",
       "        [  0.6245,   0.9331,  -2.8974,   0.0740,  11.0712,  -1.9877,   1.4818,\n",
       "           1.3584,  -5.6897,  -5.3402]])"
      ]
     },
     "execution_count": 11,
     "metadata": {},
     "output_type": "execute_result"
    }
   ],
   "source": [
    "# 5. Умножьте созданный FloatTensor на созданный IntTensor поэлементно\n",
    "a * b"
   ]
  },
  {
   "cell_type": "code",
   "execution_count": 12,
   "id": "0d280958",
   "metadata": {},
   "outputs": [
    {
     "data": {
      "text/plain": [
       "tensor([[ 7.4750,  0.3351,  3.6267,  1.7818, -3.0679, -5.9317],\n",
       "        [ 0.3351,  9.0665,  6.4106, -0.1333,  3.1639, -2.7652],\n",
       "        [ 3.6267,  6.4106, 17.7848,  1.7118,  3.1808, -4.6596],\n",
       "        [ 1.7818, -0.1333,  1.7118,  7.0151, -5.8225, -1.5561],\n",
       "        [-3.0679,  3.1639,  3.1808, -5.8225, 15.3694,  1.1313],\n",
       "        [-5.9317, -2.7652, -4.6596, -1.5561,  1.1313, 16.3613]])"
      ]
     },
     "execution_count": 12,
     "metadata": {},
     "output_type": "execute_result"
    }
   ],
   "source": [
    "# 6. Умножьте тензор матрично на себя, чтобы результат был размерности 6x6\n",
    "# Подсказка: .dot может не подойти\n",
    "torch.matmul(a, a.T)"
   ]
  },
  {
   "cell_type": "code",
   "execution_count": 13,
   "id": "d2865d53",
   "metadata": {},
   "outputs": [
    {
     "name": "stdout",
     "output_type": "stream",
     "text": [
      "tensor([3.]) tensor([1.]) tensor([-75.])\n"
     ]
    }
   ],
   "source": [
    "# 7. Посчитайте производную функции y = x**3 + z - 75t в точке (1, 0.5, 2)\n",
    "x = torch.tensor([1]).float()\n",
    "x.requires_grad = True\n",
    "z = torch.tensor([.5]).float()\n",
    "z.requires_grad = True\n",
    "t = torch.tensor([2]).float()\n",
    "t.requires_grad = True\n",
    "y = x**3 + z - 75*t\n",
    "y.backward()\n",
    "print(x.grad, z.grad, t.grad)"
   ]
  },
  {
   "cell_type": "code",
   "execution_count": 14,
   "id": "a84f2851",
   "metadata": {},
   "outputs": [
    {
     "data": {
      "text/plain": [
       "tensor([[1., 1., 1., 1., 1., 1.],\n",
       "        [1., 1., 1., 1., 1., 1.],\n",
       "        [1., 1., 1., 1., 1., 1.],\n",
       "        [1., 1., 1., 1., 1., 1.],\n",
       "        [1., 1., 1., 1., 1., 1.]])"
      ]
     },
     "execution_count": 14,
     "metadata": {},
     "output_type": "execute_result"
    }
   ],
   "source": [
    "# 8. Создайте единичный тензор размера 5x6\n",
    "c = torch.ones((5, 6))\n",
    "c"
   ]
  },
  {
   "cell_type": "code",
   "execution_count": 15,
   "id": "9eb7cada",
   "metadata": {},
   "outputs": [
    {
     "data": {
      "text/plain": [
       "array([[1., 1., 1., 1., 1., 1.],\n",
       "       [1., 1., 1., 1., 1., 1.],\n",
       "       [1., 1., 1., 1., 1., 1.],\n",
       "       [1., 1., 1., 1., 1., 1.],\n",
       "       [1., 1., 1., 1., 1., 1.]], dtype=float32)"
      ]
     },
     "execution_count": 15,
     "metadata": {},
     "output_type": "execute_result"
    }
   ],
   "source": [
    "# 9. Переведите его в формат numpy\n",
    "d = c.numpy()\n",
    "d "
   ]
  },
  {
   "cell_type": "code",
   "execution_count": null,
   "id": "e0d42cbd",
   "metadata": {},
   "outputs": [],
   "source": []
  }
 ],
 "metadata": {
  "kernelspec": {
   "display_name": "Python 3 (ipykernel)",
   "language": "python",
   "name": "python3"
  },
  "language_info": {
   "codemirror_mode": {
    "name": "ipython",
    "version": 3
   },
   "file_extension": ".py",
   "mimetype": "text/x-python",
   "name": "python",
   "nbconvert_exporter": "python",
   "pygments_lexer": "ipython3",
   "version": "3.9.7"
  }
 },
 "nbformat": 4,
 "nbformat_minor": 5
}
